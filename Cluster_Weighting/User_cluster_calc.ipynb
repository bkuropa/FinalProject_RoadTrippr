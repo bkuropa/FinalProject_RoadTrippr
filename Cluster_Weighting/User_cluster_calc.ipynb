{
 "cells": [
  {
   "cell_type": "markdown",
   "id": "fc7d19d4",
   "metadata": {},
   "source": [
    "## User Cluster Calculation "
   ]
  },
  {
   "cell_type": "markdown",
   "id": "006f2a6b",
   "metadata": {},
   "source": [
    "Utilizing the input csv corresponding to the manually weighted clustering questions, and a 10 question input currently in csv format to calculate user clusters (and numerical information for the team) to be exported (currently as a csv)."
   ]
  },
  {
   "cell_type": "code",
   "execution_count": 1,
   "id": "10d52153",
   "metadata": {},
   "outputs": [],
   "source": [
    "import pandas as pd\n",
    "import csv\n",
    "import numpy as np"
   ]
  },
  {
   "cell_type": "code",
   "execution_count": 2,
   "id": "55db7fd7",
   "metadata": {},
   "outputs": [],
   "source": [
    "# Function to determine what cluster each user belongs to and extra db info for \"processing\"\n",
    "def clust_placement():\n",
    "    # Manually weighted cluster averages based on question styles of 1 - 4\n",
    "    wt_book = open('Weighted_Avg_book.csv', \"r\")\n",
    "    clus_avg = pd.read_csv(wt_book)\n",
    "    clus_avg = clus_avg.set_index('Event')\n",
    "\n",
    "    \n",
    "    # Grab the multi line csv file (header/input) for modification\n",
    "    my_users = pd.read_csv('user_input.csv')\n",
    "    \n",
    "    my_users['Cluster'] = 0\n",
    "    my_users['Score'] = 0\n",
    "    my_users['Bkup_cluster'] = 0\n",
    "    my_users['Score2'] = 0\n",
    "    my_users['Choice3'] = 0\n",
    "    my_users['Score3'] = 0\n",
    "    my_users['Choice4'] = 0\n",
    "    my_users['Score4'] = 0\n",
    "        \n",
    "    # Iterate code for each user found in input file.\n",
    "    for i, row in my_users.iterrows():\n",
    "        # User cluster defaults to default averages\n",
    "        user_clust = clus_avg.copy()\n",
    " \n",
    "        # Re-weigh user's clusters based on questionaire answers\n",
    "        user_clust[\"Cluster1\"] = clus_avg[\"Cluster1\"]*row['q1']\n",
    "        user_clust[\"Cluster2\"] = clus_avg[\"Cluster2\"]*row['q2']\n",
    "        user_clust[\"Cluster3\"] = clus_avg[\"Cluster3\"]*row['q3']\n",
    "        user_clust[\"Cluster4\"] = clus_avg[\"Cluster4\"]*row['q4']\n",
    "        \n",
    "        # Sort total cluster sums biggest to smallest and record largest (and second largest)\n",
    "        my_clust = user_clust.sum(axis='rows').sort_values(ascending=False)\n",
    "        my_users.at[i,'Cluster'] = my_clust.index[0][-1]\n",
    "        my_users.at[i,'Score'] = round(my_clust[0],2)\n",
    "        my_users.at[i,'Bkup_cluster'] = my_clust.index[1][-1]\n",
    "\n",
    "        # Extra information about scoring\n",
    "        my_users.at[i,\"Score2\"] = round(my_clust[1],2)\n",
    "        my_users.at[i,\"Choice3\"] = my_clust.index[2][-1]\n",
    "        my_users.at[i,\"Score3\"] = round(my_clust[2],2)\n",
    "        my_users.at[i,\"Choice4\"] = my_clust.index[3][-1]\n",
    "        my_users.at[i,\"Score4\"] = round(my_clust[3],2)\n",
    "        # Clear current row\n",
    "        user_clust = \"\"\n",
    "        my_clust = \"\"\n",
    "        \n",
    "    with open('user_output.csv', \"w\") as f:\n",
    "        my_users.to_csv(f, header=my_users.columns, index=False, line_terminator='\\n')"
   ]
  },
  {
   "cell_type": "code",
   "execution_count": 3,
   "id": "ffb0b394",
   "metadata": {},
   "outputs": [],
   "source": [
    "# Execute fuction and export the calculations\n",
    "clust_placement()"
   ]
  },
  {
   "cell_type": "code",
   "execution_count": null,
   "id": "2be9d0eb",
   "metadata": {},
   "outputs": [],
   "source": []
  }
 ],
 "metadata": {
  "kernelspec": {
   "display_name": "Python 3 (ipykernel)",
   "language": "python",
   "name": "python3"
  },
  "language_info": {
   "codemirror_mode": {
    "name": "ipython",
    "version": 3
   },
   "file_extension": ".py",
   "mimetype": "text/x-python",
   "name": "python",
   "nbconvert_exporter": "python",
   "pygments_lexer": "ipython3",
   "version": "3.8.13"
  }
 },
 "nbformat": 4,
 "nbformat_minor": 5
}
