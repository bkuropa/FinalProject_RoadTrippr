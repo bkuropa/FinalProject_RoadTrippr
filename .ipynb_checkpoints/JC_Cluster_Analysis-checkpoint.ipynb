{
 "cells": [
  {
   "cell_type": "code",
   "execution_count": null,
   "id": "7d9d1862",
   "metadata": {},
   "outputs": [],
   "source": [
    "import pandas as pd\n",
    "import matplotlib.pyplot as plt\n",
    "import seaborn as sns\n",
    "import numpy as np\n",
    "#from tabulate import tabulate as tb"
   ]
  },
  {
   "cell_type": "code",
   "execution_count": null,
   "id": "66692c72",
   "metadata": {},
   "outputs": [],
   "source": [
    "df = pd.read_csv('clustered_gd_noLSH.csv',header=0,index_col=False) \n",
    "df = df.set_index('user_id')\n",
    "df = df.drop('Clusters5', 1)\n",
    "df.head()"
   ]
  },
  {
   "cell_type": "code",
   "execution_count": null,
   "id": "58cb081e",
   "metadata": {},
   "outputs": [],
   "source": [
    "# Get Cluster value tables\n",
    "cluster1 = df.loc[df['Clusters4'] == 0]\n",
    "cluster1 = cluster1.drop('Clusters4', 1)\n",
    "cluster2 = df.loc[df['Clusters4'] == 1]\n",
    "cluster2 = cluster2.drop('Clusters4', 1)\n",
    "cluster3 = df.loc[df['Clusters4'] == 2]\n",
    "cluster3 = cluster3.drop('Clusters4', 1)\n",
    "cluster4 = df.loc[df['Clusters4'] == 3]\n",
    "cluster4 = cluster4.drop('Clusters4', 1)"
   ]
  },
  {
   "cell_type": "code",
   "execution_count": null,
   "id": "18db0029",
   "metadata": {},
   "outputs": [],
   "source": [
    "frames = [cluster1.mean(), cluster2.mean(), cluster3.mean(), cluster4.mean()]\n",
    "multi_mean = pd.concat([cluster1.mean(), cluster2.mean(),cluster3.mean(),cluster4.mean()], axis=1)"
   ]
  },
  {
   "cell_type": "code",
   "execution_count": null,
   "id": "0aa8a3ac",
   "metadata": {},
   "outputs": [],
   "source": [
    "multi_mean.rename(columns={0: 'Cluster1', 1: 'Cluster2',2: 'Cluster3', 3: 'Cluster4'}, inplace=True)"
   ]
  },
  {
   "cell_type": "code",
   "execution_count": null,
   "id": "83317a8a",
   "metadata": {},
   "outputs": [],
   "source": [
    "multi_mean"
   ]
  },
  {
   "cell_type": "code",
   "execution_count": null,
   "id": "1acded51",
   "metadata": {},
   "outputs": [],
   "source": [
    "multi_mean.to_csv(r\"Cluster_Analysis.csv\")"
   ]
  },
  {
   "cell_type": "code",
   "execution_count": null,
   "id": "426334f8",
   "metadata": {},
   "outputs": [],
   "source": [
    "order1 = cluster1.mean().sort_values()\n",
    "order1"
   ]
  },
  {
   "cell_type": "code",
   "execution_count": null,
   "id": "1767d5c6",
   "metadata": {},
   "outputs": [],
   "source": [
    "order2 = cluster2.mean().sort_values()\n",
    "order2"
   ]
  },
  {
   "cell_type": "code",
   "execution_count": null,
   "id": "466ef654",
   "metadata": {},
   "outputs": [],
   "source": [
    "order3 = cluster3.mean().sort_values()\n",
    "order3"
   ]
  },
  {
   "cell_type": "code",
   "execution_count": null,
   "id": "e2b29301",
   "metadata": {},
   "outputs": [],
   "source": [
    "order4 = cluster4.mean().sort_values()\n",
    "order4"
   ]
  }
 ],
 "metadata": {
  "kernelspec": {
   "display_name": "PythonData",
   "language": "python",
   "name": "pythondata"
  },
  "language_info": {
   "codemirror_mode": {
    "name": "ipython",
    "version": 3
   },
   "file_extension": ".py",
   "mimetype": "text/x-python",
   "name": "python",
   "nbconvert_exporter": "python",
   "pygments_lexer": "ipython3",
   "version": "3.7.11"
  }
 },
 "nbformat": 4,
 "nbformat_minor": 5
}
