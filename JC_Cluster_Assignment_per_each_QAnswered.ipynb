{
 "cells": [
  {
   "cell_type": "code",
   "execution_count": null,
   "id": "2ca2b1b4",
   "metadata": {},
   "outputs": [],
   "source": [
    "import pandas as pd\n",
    "import numpy as np"
   ]
  },
  {
   "cell_type": "code",
   "execution_count": null,
   "id": "7618d98f",
   "metadata": {},
   "outputs": [],
   "source": [
    "cluster = pd.read_csv(\"Cluster Weighting.csv\")\n",
    "matrix = pd.read_csv(\"Matrix Score.csv\")\n",
    "matrix.head()\n",
    "\n",
    "# user inputs will pull from database\n",
    "user_inputs = pd.read_csv(\"user inputs from database.csv\")\n",
    "user_inputs.head()\n",
    "\n",
    "# get cluster from 4 questions related to each cluster averages\n",
    "cluster = pd.read_csv(\"Cluster_Analysis.csv\")\n",
    "cluster.head()"
   ]
  },
  {
   "cell_type": "code",
   "execution_count": null,
   "id": "c9fe972b",
   "metadata": {},
   "outputs": [],
   "source": [
    "# merge matrix with user answer \n",
    "user_scale = matrix.merge(user_inputs, left_on = 'Question', right_on='Questions')\n",
    "user_scale.head()"
   ]
  },
  {
   "cell_type": "code",
   "execution_count": null,
   "id": "3aae18a5",
   "metadata": {},
   "outputs": [],
   "source": [
    "# clean up the merge dataframe and filter out the values only for answers\n",
    "user_scale = user_scale.loc[user_scale['Question_Scale'] == user_scale['Answer']]\n",
    "user_scale"
   ]
  },
  {
   "cell_type": "code",
   "execution_count": null,
   "id": "1cefa695",
   "metadata": {},
   "outputs": [],
   "source": [
    "user_scale_total = user_scale.groupby(['Category']).sum(['Value']).drop(columns = ['Question_Scale','Answer'])\n",
    "user_scale_total"
   ]
  },
  {
   "cell_type": "code",
   "execution_count": null,
   "id": "0d960d63",
   "metadata": {},
   "outputs": [],
   "source": [
    "# Merge Cluster with user_scale_total\n",
    "user_final = cluster.loc[cluster['Cluster']== user_cluster]\n",
    "user_final_Cat = user_final.merge(user_scale_total, how = \"left\", left_on = \"Category\", right_on= \"Category\")\n",
    "user_final_Cat['Final_Score'] = user_final_Cat['Value'] * user_final_Cat['Weight']\n",
    "user_final_Cat"
   ]
  }
 ],
 "metadata": {
  "kernelspec": {
   "display_name": "PythonData",
   "language": "python",
   "name": "pythondata"
  },
  "language_info": {
   "codemirror_mode": {
    "name": "ipython",
    "version": 3
   },
   "file_extension": ".py",
   "mimetype": "text/x-python",
   "name": "python",
   "nbconvert_exporter": "python",
   "pygments_lexer": "ipython3",
   "version": "3.7.11"
  }
 },
 "nbformat": 4,
 "nbformat_minor": 5
}
